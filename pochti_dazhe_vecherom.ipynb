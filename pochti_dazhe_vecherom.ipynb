{
  "nbformat": 4,
  "nbformat_minor": 0,
  "metadata": {
    "colab": {
      "provenance": []
    },
    "kernelspec": {
      "name": "python3",
      "display_name": "Python 3"
    },
    "language_info": {
      "name": "python"
    }
  },
  "cells": [
    {
      "cell_type": "code",
      "execution_count": 2,
      "metadata": {
        "id": "yeXsslto1_mt"
      },
      "outputs": [],
      "source": [
        "import pandas as pd\n",
        "import numpy as np \n",
        "from sklearn.linear_model import LinearRegression"
      ]
    },
    {
      "cell_type": "code",
      "source": [
        "x1 = [6, 12, 8, 10, 13]\n",
        "y1 = [32, 68, 50, 47, 85]"
      ],
      "metadata": {
        "id": "AxDiC-dmcfv5"
      },
      "execution_count": 68,
      "outputs": []
    },
    {
      "cell_type": "code",
      "source": [
        "\n",
        "X = np.array([6, 12, 8, 10, 13]).reshape(-1, 1)\n",
        "# y = 1 * x_0 + 2 * x_1 + 3\n",
        "y = np.array([32, 68, 50, 47, 85]).reshape(-1, 1)\n",
        "reg = LinearRegression().fit(X, y)\n",
        "reg.score(X, y)\n",
        "\n",
        "print('cccc', reg.coef_)\n",
        "\n",
        "print('iiiii', reg.intercept_)\n",
        "\n",
        "# reg.predict(np.array([[3, 5]]))"
      ],
      "metadata": {
        "colab": {
          "base_uri": "https://localhost:8080/"
        },
        "id": "yNs94lMlIgze",
        "outputId": "647e2ebc-d9d0-47d3-b88a-9de32bd1ae36"
      },
      "execution_count": 69,
      "outputs": [
        {
          "output_type": "stream",
          "name": "stdout",
          "text": [
            "cccc [[6.68902439]]\n",
            "iiiii [-9.15243902]\n"
          ]
        }
      ]
    },
    {
      "cell_type": "code",
      "source": [
        "#находим средние значения\n",
        "sr_x = np.mean(x1)\n",
        "sr_y = np.mean(y1)\n",
        "#print('средние значения x и y:',sr_x,' ', sr_y)\n",
        "\n",
        "\n",
        "#находим коэффициент ковариации\n",
        "n = len(x1)\n",
        "suma = 0\n",
        "i = 0\n",
        "while i < n:\n",
        "  suma = suma + (x1[i]-sr_x)*(y1[i]-sr_y)\n",
        "  i = i+1\n",
        "coef_cov = suma/n\n",
        "\n",
        "\n",
        "#ср.кв. отклонение\n",
        "sr_o_x = np.std(x1, dtype=np.float64)\n",
        "sr_o_y = np.std(y1, dtype=np.float64)\n",
        "#print('средние квадратичные отклонения x и y:',sr_o_x,' ', sr_o_y)\n",
        "\n",
        "\n",
        "#коэффициент линейной кореляции\n",
        "r = coef_cov/(sr_o_x*sr_o_y)\n",
        "#print('линейная кореляция:',r)\n",
        "\n",
        "\n",
        "#Коэффициент детерминации\n",
        "R = r*r\n",
        "#print('детерминация:',R)\n",
        "\n",
        "\n",
        "#вычисляем k\n",
        "k = (r*sr_o_y)/sr_o_x\n",
        "print('k =',k)\n",
        "\n",
        "\n",
        "#вычисляем b\n",
        "b = sr_y - k*sr_x\n",
        "print('b=',b)"
      ],
      "metadata": {
        "colab": {
          "base_uri": "https://localhost:8080/"
        },
        "id": "Txd6139l30uh",
        "outputId": "fb4f6fb5-7df0-45e4-cf5f-bc3b197c015e"
      },
      "execution_count": 75,
      "outputs": [
        {
          "output_type": "stream",
          "name": "stdout",
          "text": [
            "k = 6.689024390243903\n",
            "b= -9.152439024390254\n"
          ]
        }
      ]
    },
    {
      "cell_type": "code",
      "source": [
        "for i in range(5):\n",
        "  x_new = x1[-1] + (x1[-1] - x1[-2])\n",
        "  y_pred = (k*x_new)+b\n",
        "  x1.append(x_new)\n",
        "  print(x_new)\n",
        "  print('Prediction for x=12: ', y_pred, x1)"
      ],
      "metadata": {
        "colab": {
          "base_uri": "https://localhost:8080/"
        },
        "id": "CJvhIqVwcWdX",
        "outputId": "db095744-1a91-4731-b784-885d48ba9967"
      },
      "execution_count": 77,
      "outputs": [
        {
          "output_type": "stream",
          "name": "stdout",
          "text": [
            "19\n",
            "Prediction for x=12:  117.9390243902439 [6, 12, 8, 10, 13, 16, 19]\n",
            "22\n",
            "Prediction for x=12:  138.0060975609756 [6, 12, 8, 10, 13, 16, 19, 22]\n",
            "25\n",
            "Prediction for x=12:  158.07317073170734 [6, 12, 8, 10, 13, 16, 19, 22, 25]\n",
            "28\n",
            "Prediction for x=12:  178.14024390243904 [6, 12, 8, 10, 13, 16, 19, 22, 25, 28]\n",
            "31\n",
            "Prediction for x=12:  198.20731707317074 [6, 12, 8, 10, 13, 16, 19, 22, 25, 28, 31]\n"
          ]
        }
      ]
    }
  ]
}