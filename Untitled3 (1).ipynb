{
  "nbformat": 4,
  "nbformat_minor": 0,
  "metadata": {
    "colab": {
      "provenance": []
    },
    "kernelspec": {
      "name": "python3",
      "display_name": "Python 3"
    },
    "language_info": {
      "name": "python"
    }
  },
  "cells": [
    {
      "cell_type": "markdown",
      "source": [
        "Импорт библиотек"
      ],
      "metadata": {
        "id": "Yp-JMxc8MsmH"
      }
    },
    {
      "cell_type": "code",
      "execution_count": 8,
      "metadata": {
        "id": "3R1I92doMfKv"
      },
      "outputs": [],
      "source": [
        "import seaborn as sns\n",
        "import sklearn\n",
        "import pandas as pd\n",
        "import numpy as np"
      ]
    },
    {
      "cell_type": "markdown",
      "source": [
        "Чтение датасетов"
      ],
      "metadata": {
        "id": "qhX46HHhMx3e"
      }
    },
    {
      "cell_type": "code",
      "source": [
        "test = pd.read_csv('test.csv') \n",
        "train = pd.read_csv('train.csv')"
      ],
      "metadata": {
        "id": "GZYnTKHGMsCg"
      },
      "execution_count": 9,
      "outputs": []
    },
    {
      "cell_type": "markdown",
      "source": [
        "Присваивание df"
      ],
      "metadata": {
        "id": "AyyBfyttM6le"
      }
    },
    {
      "cell_type": "code",
      "source": [
        "df = pd.merge(test,train)"
      ],
      "metadata": {
        "id": "KSrQxay_Mr_7"
      },
      "execution_count": 10,
      "outputs": []
    },
    {
      "cell_type": "code",
      "source": [
        "y = test.merge(df,on='PassengerId', how = 'right')\n",
        "df = train.append(y)"
      ],
      "metadata": {
        "id": "hkD9m1f_NVEu"
      },
      "execution_count": 12,
      "outputs": []
    },
    {
      "cell_type": "markdown",
      "source": [
        "Количество мужчин и женщин"
      ],
      "metadata": {
        "id": "s07nQUimNY1u"
      }
    },
    {
      "cell_type": "code",
      "source": [
        "df.groupby('Sex')['PassengerId'].count()"
      ],
      "metadata": {
        "colab": {
          "base_uri": "https://localhost:8080/"
        },
        "id": "K2RLSHqBMr7p",
        "outputId": "d9c86fc8-ad68-487b-d745-be36568745b6"
      },
      "execution_count": 13,
      "outputs": [
        {
          "output_type": "execute_result",
          "data": {
            "text/plain": [
              "Sex\n",
              "female    314\n",
              "male      577\n",
              "Name: PassengerId, dtype: int64"
            ]
          },
          "metadata": {},
          "execution_count": 13
        }
      ]
    },
    {
      "cell_type": "markdown",
      "source": [
        "Билеты(классы)"
      ],
      "metadata": {
        "id": "sjaNthA7NgVe"
      }
    },
    {
      "cell_type": "code",
      "source": [
        "df.groupby('Pclass')['PassengerId'].count()"
      ],
      "metadata": {
        "colab": {
          "base_uri": "https://localhost:8080/"
        },
        "id": "DvV0mPV0Mr5B",
        "outputId": "4a56ba69-a371-43b5-dae5-93b779af61c4"
      },
      "execution_count": 14,
      "outputs": [
        {
          "output_type": "execute_result",
          "data": {
            "text/plain": [
              "Pclass\n",
              "1.0    216\n",
              "2.0    184\n",
              "3.0    491\n",
              "Name: PassengerId, dtype: int64"
            ]
          },
          "metadata": {},
          "execution_count": 14
        }
      ]
    },
    {
      "cell_type": "code",
      "source": [
        "men = df[df.Sex == \"male\"] \n",
        "women = df[df.Sex == \"female\"]"
      ],
      "metadata": {
        "id": "XddgahaAMr1E"
      },
      "execution_count": 16,
      "outputs": []
    },
    {
      "cell_type": "markdown",
      "source": [
        "Дроп лишнего"
      ],
      "metadata": {
        "id": "PgB_vrK4OF0W"
      }
    },
    {
      "cell_type": "code",
      "source": [
        "df = df.drop(labels=['Cabin','Name','Ticket','Embarked'], axis=1)"
      ],
      "metadata": {
        "id": "CeIVkOuIMrym"
      },
      "execution_count": 17,
      "outputs": []
    },
    {
      "cell_type": "markdown",
      "source": [
        "Диограмма классы/выживаемость мужчин и женщин"
      ],
      "metadata": {
        "id": "_STP2S1cOLM1"
      }
    },
    {
      "cell_type": "code",
      "source": [
        "sns.catplot(data = df,y='Survived',x='Sex',col='Pclass',\n",
        "            kind='bar', saturation=0.5)"
      ],
      "metadata": {
        "colab": {
          "base_uri": "https://localhost:8080/",
          "height": 273
        },
        "id": "plKmQBv2MrwI",
        "outputId": "4196719b-8116-4373-c3db-ed8131892152"
      },
      "execution_count": 18,
      "outputs": [
        {
          "output_type": "execute_result",
          "data": {
            "text/plain": [
              "<seaborn.axisgrid.FacetGrid at 0x7f6d5d5bd700>"
            ]
          },
          "metadata": {},
          "execution_count": 18
        },
        {
          "output_type": "display_data",
          "data": {
            "text/plain": [
              "<Figure size 1080x360 with 3 Axes>"
            ],
            "image/png": "[encoded data removed]"
          },
          "metadata": {
            "needs_background": "light"
          }
        }
      ]
    },
    {
      "cell_type": "markdown",
      "source": [
        "Большинство погибших это пассажиры 3-его класса, а наибольшее кол-во выживших в 1-ом классе"
      ],
      "metadata": {
        "id": "9kWAOgatOgt_"
      }
    },
    {
      "cell_type": "code",
      "source": [
        "sns.catplot(data = df,hue = 'Survived', x = 'Pclass',\n",
        "            kind='count', saturation=0.5)"
      ],
      "metadata": {
        "colab": {
          "base_uri": "https://localhost:8080/",
          "height": 386
        },
        "id": "DjbhQVWtMrtz",
        "outputId": "c493d35d-e215-4bb2-8e63-46442d0a721c"
      },
      "execution_count": 19,
      "outputs": [
        {
          "output_type": "execute_result",
          "data": {
            "text/plain": [
              "<seaborn.axisgrid.FacetGrid at 0x7f6d2e7c9790>"
            ]
          },
          "metadata": {},
          "execution_count": 19
        },
        {
          "output_type": "display_data",
          "data": {
            "text/plain": [
              "<Figure size 411.875x360 with 1 Axes>"
            ],
            "image/png": "[encoded data removed]"
          },
          "metadata": {
            "needs_background": "light"
          }
        }
      ]
    },
    {
      "cell_type": "markdown",
      "source": [
        "Больше всего людей 20-30 лет"
      ],
      "metadata": {
        "id": "jtnh5EYFOv5-"
      }
    },
    {
      "cell_type": "code",
      "source": [
        "df.Age.hist()"
      ],
      "metadata": {
        "colab": {
          "base_uri": "https://localhost:8080/",
          "height": 282
        },
        "id": "ODPg133LMrrr",
        "outputId": "dc26354d-a7a0-4444-da27-05aba85ee020"
      },
      "execution_count": 20,
      "outputs": [
        {
          "output_type": "execute_result",
          "data": {
            "text/plain": [
              "<matplotlib.axes._subplots.AxesSubplot at 0x7f6d2de90fd0>"
            ]
          },
          "metadata": {},
          "execution_count": 20
        },
        {
          "output_type": "display_data",
          "data": {
            "text/plain": [
              "<Figure size 432x288 with 1 Axes>"
            ],
            "image/png": "[encoded data removed]"
          },
          "metadata": {
            "needs_background": "light"
          }
        }
      ]
    },
    {
      "cell_type": "markdown",
      "source": [
        "Наиболее видно, что в первую очередь спасали женщин и детей"
      ],
      "metadata": {
        "id": "NKqqgnF6PBiF"
      }
    },
    {
      "cell_type": "code",
      "source": [
        "grand= df[df.Age>50]\n",
        "sns.catplot(data = grand,hue = 'Survived', \n",
        "            x = 'Sex',kind='count', saturation=0.5)"
      ],
      "metadata": {
        "colab": {
          "base_uri": "https://localhost:8080/",
          "height": 386
        },
        "id": "TuycitsVMrmm",
        "outputId": "e76e1ee9-cd7a-4999-b963-dcb1a7df473e"
      },
      "execution_count": 21,
      "outputs": [
        {
          "output_type": "execute_result",
          "data": {
            "text/plain": [
              "<seaborn.axisgrid.FacetGrid at 0x7f6d2b632d00>"
            ]
          },
          "metadata": {},
          "execution_count": 21
        },
        {
          "output_type": "display_data",
          "data": {
            "text/plain": [
              "<Figure size 411.875x360 with 1 Axes>"
            ],
            "image/png": "[encoded data removed]"
          },
          "metadata": {
            "needs_background": "light"
          }
        }
      ]
    }
  ]
}